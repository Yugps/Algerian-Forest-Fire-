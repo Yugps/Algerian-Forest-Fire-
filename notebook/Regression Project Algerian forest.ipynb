{
 "cells": [
  {
   "cell_type": "code",
   "execution_count": 11,
   "id": "2412c536-85db-4473-ad02-021ad8cd7547",
   "metadata": {},
   "outputs": [],
   "source": [
    "import pandas as pd \n",
    "import numpy as np \n",
    "import matplotlib.pyplot as plt\n",
    "import seaborn as sns\n",
    "import warnings \n",
    "warnings.filterwarnings('ignore')"
   ]
  },
  {
   "cell_type": "code",
   "execution_count": 12,
   "id": "ee2e8201-2345-40d4-a7ee-f4a76c79cd35",
   "metadata": {},
   "outputs": [],
   "source": [
    "df=pd.read_csv('Algerian_forest_fires_dataset_UPDATE.csv',header=1)"
   ]
  },
  {
   "cell_type": "code",
   "execution_count": 13,
   "id": "2f7197b9-3c16-401f-b83c-b6b2a0c5a788",
   "metadata": {},
   "outputs": [
    {
     "data": {
      "text/html": [
       "<div>\n",
       "<style scoped>\n",
       "    .dataframe tbody tr th:only-of-type {\n",
       "        vertical-align: middle;\n",
       "    }\n",
       "\n",
       "    .dataframe tbody tr th {\n",
       "        vertical-align: top;\n",
       "    }\n",
       "\n",
       "    .dataframe thead th {\n",
       "        text-align: right;\n",
       "    }\n",
       "</style>\n",
       "<table border=\"1\" class=\"dataframe\">\n",
       "  <thead>\n",
       "    <tr style=\"text-align: right;\">\n",
       "      <th></th>\n",
       "      <th>day</th>\n",
       "      <th>month</th>\n",
       "      <th>year</th>\n",
       "      <th>Temperature</th>\n",
       "      <th>RH</th>\n",
       "      <th>Ws</th>\n",
       "      <th>Rain</th>\n",
       "      <th>FFMC</th>\n",
       "      <th>DMC</th>\n",
       "      <th>DC</th>\n",
       "      <th>ISI</th>\n",
       "      <th>BUI</th>\n",
       "      <th>FWI</th>\n",
       "      <th>Classes</th>\n",
       "    </tr>\n",
       "  </thead>\n",
       "  <tbody>\n",
       "    <tr>\n",
       "      <th>0</th>\n",
       "      <td>01</td>\n",
       "      <td>06</td>\n",
       "      <td>2012</td>\n",
       "      <td>29</td>\n",
       "      <td>57</td>\n",
       "      <td>18</td>\n",
       "      <td>0</td>\n",
       "      <td>65.7</td>\n",
       "      <td>3.4</td>\n",
       "      <td>7.6</td>\n",
       "      <td>1.3</td>\n",
       "      <td>3.4</td>\n",
       "      <td>0.5</td>\n",
       "      <td>not fire</td>\n",
       "    </tr>\n",
       "    <tr>\n",
       "      <th>1</th>\n",
       "      <td>02</td>\n",
       "      <td>06</td>\n",
       "      <td>2012</td>\n",
       "      <td>29</td>\n",
       "      <td>61</td>\n",
       "      <td>13</td>\n",
       "      <td>1.3</td>\n",
       "      <td>64.4</td>\n",
       "      <td>4.1</td>\n",
       "      <td>7.6</td>\n",
       "      <td>1</td>\n",
       "      <td>3.9</td>\n",
       "      <td>0.4</td>\n",
       "      <td>not fire</td>\n",
       "    </tr>\n",
       "    <tr>\n",
       "      <th>2</th>\n",
       "      <td>03</td>\n",
       "      <td>06</td>\n",
       "      <td>2012</td>\n",
       "      <td>26</td>\n",
       "      <td>82</td>\n",
       "      <td>22</td>\n",
       "      <td>13.1</td>\n",
       "      <td>47.1</td>\n",
       "      <td>2.5</td>\n",
       "      <td>7.1</td>\n",
       "      <td>0.3</td>\n",
       "      <td>2.7</td>\n",
       "      <td>0.1</td>\n",
       "      <td>not fire</td>\n",
       "    </tr>\n",
       "    <tr>\n",
       "      <th>3</th>\n",
       "      <td>04</td>\n",
       "      <td>06</td>\n",
       "      <td>2012</td>\n",
       "      <td>25</td>\n",
       "      <td>89</td>\n",
       "      <td>13</td>\n",
       "      <td>2.5</td>\n",
       "      <td>28.6</td>\n",
       "      <td>1.3</td>\n",
       "      <td>6.9</td>\n",
       "      <td>0</td>\n",
       "      <td>1.7</td>\n",
       "      <td>0</td>\n",
       "      <td>not fire</td>\n",
       "    </tr>\n",
       "    <tr>\n",
       "      <th>4</th>\n",
       "      <td>05</td>\n",
       "      <td>06</td>\n",
       "      <td>2012</td>\n",
       "      <td>27</td>\n",
       "      <td>77</td>\n",
       "      <td>16</td>\n",
       "      <td>0</td>\n",
       "      <td>64.8</td>\n",
       "      <td>3</td>\n",
       "      <td>14.2</td>\n",
       "      <td>1.2</td>\n",
       "      <td>3.9</td>\n",
       "      <td>0.5</td>\n",
       "      <td>not fire</td>\n",
       "    </tr>\n",
       "  </tbody>\n",
       "</table>\n",
       "</div>"
      ],
      "text/plain": [
       "  day month  year Temperature  RH  Ws Rain   FFMC  DMC    DC  ISI  BUI  FWI  \\\n",
       "0  01    06  2012          29  57  18     0  65.7  3.4   7.6  1.3  3.4  0.5   \n",
       "1  02    06  2012          29  61  13   1.3  64.4  4.1   7.6    1  3.9  0.4   \n",
       "2  03    06  2012          26  82  22  13.1  47.1  2.5   7.1  0.3  2.7  0.1   \n",
       "3  04    06  2012          25  89  13   2.5  28.6  1.3   6.9    0  1.7    0   \n",
       "4  05    06  2012          27  77  16     0  64.8    3  14.2  1.2  3.9  0.5   \n",
       "\n",
       "     Classes    \n",
       "0  not fire     \n",
       "1  not fire     \n",
       "2  not fire     \n",
       "3  not fire     \n",
       "4  not fire     "
      ]
     },
     "execution_count": 13,
     "metadata": {},
     "output_type": "execute_result"
    }
   ],
   "source": [
    "df.head()"
   ]
  },
  {
   "cell_type": "code",
   "execution_count": 14,
   "id": "21f53fb2-91f6-4a5e-aaea-56816d962181",
   "metadata": {},
   "outputs": [
    {
     "name": "stdout",
     "output_type": "stream",
     "text": [
      "<class 'pandas.core.frame.DataFrame'>\n",
      "RangeIndex: 246 entries, 0 to 245\n",
      "Data columns (total 14 columns):\n",
      " #   Column       Non-Null Count  Dtype \n",
      "---  ------       --------------  ----- \n",
      " 0   day          246 non-null    object\n",
      " 1   month        245 non-null    object\n",
      " 2   year         245 non-null    object\n",
      " 3   Temperature  245 non-null    object\n",
      " 4    RH          245 non-null    object\n",
      " 5    Ws          245 non-null    object\n",
      " 6   Rain         245 non-null    object\n",
      " 7   FFMC         245 non-null    object\n",
      " 8   DMC          245 non-null    object\n",
      " 9   DC           245 non-null    object\n",
      " 10  ISI          245 non-null    object\n",
      " 11  BUI          245 non-null    object\n",
      " 12  FWI          245 non-null    object\n",
      " 13  Classes      244 non-null    object\n",
      "dtypes: object(14)\n",
      "memory usage: 27.0+ KB\n"
     ]
    }
   ],
   "source": [
    "df.info()"
   ]
  },
  {
   "cell_type": "markdown",
   "id": "81639cb0-7e19-43b7-a7d1-99a87ccf608d",
   "metadata": {},
   "source": [
    "### Checking the day year and month columns"
   ]
  },
  {
   "cell_type": "code",
   "execution_count": 15,
   "id": "86886312-ee08-42a6-9982-fb0dd3ede26b",
   "metadata": {},
   "outputs": [
    {
     "data": {
      "text/html": [
       "<div>\n",
       "<style scoped>\n",
       "    .dataframe tbody tr th:only-of-type {\n",
       "        vertical-align: middle;\n",
       "    }\n",
       "\n",
       "    .dataframe tbody tr th {\n",
       "        vertical-align: top;\n",
       "    }\n",
       "\n",
       "    .dataframe thead th {\n",
       "        text-align: right;\n",
       "    }\n",
       "</style>\n",
       "<table border=\"1\" class=\"dataframe\">\n",
       "  <thead>\n",
       "    <tr style=\"text-align: right;\">\n",
       "      <th></th>\n",
       "      <th>day</th>\n",
       "      <th>month</th>\n",
       "      <th>year</th>\n",
       "      <th>Temperature</th>\n",
       "      <th>RH</th>\n",
       "      <th>Ws</th>\n",
       "      <th>Rain</th>\n",
       "      <th>FFMC</th>\n",
       "      <th>DMC</th>\n",
       "      <th>DC</th>\n",
       "      <th>ISI</th>\n",
       "      <th>BUI</th>\n",
       "      <th>FWI</th>\n",
       "      <th>Classes</th>\n",
       "    </tr>\n",
       "  </thead>\n",
       "  <tbody>\n",
       "    <tr>\n",
       "      <th>122</th>\n",
       "      <td>Sidi-Bel Abbes Region Dataset</td>\n",
       "      <td>NaN</td>\n",
       "      <td>NaN</td>\n",
       "      <td>NaN</td>\n",
       "      <td>NaN</td>\n",
       "      <td>NaN</td>\n",
       "      <td>NaN</td>\n",
       "      <td>NaN</td>\n",
       "      <td>NaN</td>\n",
       "      <td>NaN</td>\n",
       "      <td>NaN</td>\n",
       "      <td>NaN</td>\n",
       "      <td>NaN</td>\n",
       "      <td>NaN</td>\n",
       "    </tr>\n",
       "    <tr>\n",
       "      <th>123</th>\n",
       "      <td>day</td>\n",
       "      <td>month</td>\n",
       "      <td>year</td>\n",
       "      <td>Temperature</td>\n",
       "      <td>RH</td>\n",
       "      <td>Ws</td>\n",
       "      <td>Rain</td>\n",
       "      <td>FFMC</td>\n",
       "      <td>DMC</td>\n",
       "      <td>DC</td>\n",
       "      <td>ISI</td>\n",
       "      <td>BUI</td>\n",
       "      <td>FWI</td>\n",
       "      <td>Classes</td>\n",
       "    </tr>\n",
       "  </tbody>\n",
       "</table>\n",
       "</div>"
      ],
      "text/plain": [
       "                               day  month  year  Temperature   RH   Ws  Rain   \\\n",
       "122  Sidi-Bel Abbes Region Dataset    NaN   NaN          NaN  NaN  NaN    NaN   \n",
       "123                            day  month  year  Temperature   RH   Ws  Rain    \n",
       "\n",
       "     FFMC  DMC   DC  ISI  BUI  FWI  Classes    \n",
       "122   NaN  NaN  NaN  NaN  NaN  NaN        NaN  \n",
       "123  FFMC  DMC   DC  ISI  BUI  FWI  Classes    "
      ]
     },
     "execution_count": 15,
     "metadata": {},
     "output_type": "execute_result"
    }
   ],
   "source": [
    "df[~df['day'].str.isnumeric()]"
   ]
  },
  {
   "cell_type": "code",
   "execution_count": 16,
   "id": "b4ce6e3e-abf3-4932-928c-aef86b2bb4a8",
   "metadata": {},
   "outputs": [],
   "source": [
    "df.drop([122,123],axis='rows',inplace=True)"
   ]
  },
  {
   "cell_type": "code",
   "execution_count": 17,
   "id": "cff121f6-a545-47ea-90d2-5983fb2ddc16",
   "metadata": {},
   "outputs": [
    {
     "data": {
      "text/html": [
       "<div>\n",
       "<style scoped>\n",
       "    .dataframe tbody tr th:only-of-type {\n",
       "        vertical-align: middle;\n",
       "    }\n",
       "\n",
       "    .dataframe tbody tr th {\n",
       "        vertical-align: top;\n",
       "    }\n",
       "\n",
       "    .dataframe thead th {\n",
       "        text-align: right;\n",
       "    }\n",
       "</style>\n",
       "<table border=\"1\" class=\"dataframe\">\n",
       "  <thead>\n",
       "    <tr style=\"text-align: right;\">\n",
       "      <th></th>\n",
       "      <th>day</th>\n",
       "      <th>month</th>\n",
       "      <th>year</th>\n",
       "      <th>Temperature</th>\n",
       "      <th>RH</th>\n",
       "      <th>Ws</th>\n",
       "      <th>Rain</th>\n",
       "      <th>FFMC</th>\n",
       "      <th>DMC</th>\n",
       "      <th>DC</th>\n",
       "      <th>ISI</th>\n",
       "      <th>BUI</th>\n",
       "      <th>FWI</th>\n",
       "      <th>Classes</th>\n",
       "    </tr>\n",
       "  </thead>\n",
       "  <tbody>\n",
       "  </tbody>\n",
       "</table>\n",
       "</div>"
      ],
      "text/plain": [
       "Empty DataFrame\n",
       "Columns: [day, month, year, Temperature,  RH,  Ws, Rain , FFMC, DMC, DC, ISI, BUI, FWI, Classes  ]\n",
       "Index: []"
      ]
     },
     "execution_count": 17,
     "metadata": {},
     "output_type": "execute_result"
    }
   ],
   "source": [
    "df[~df['year'].str.isnumeric()]"
   ]
  },
  {
   "cell_type": "code",
   "execution_count": 18,
   "id": "f4061674-95e5-4d20-9fa1-19770711e4b8",
   "metadata": {},
   "outputs": [
    {
     "data": {
      "text/html": [
       "<div>\n",
       "<style scoped>\n",
       "    .dataframe tbody tr th:only-of-type {\n",
       "        vertical-align: middle;\n",
       "    }\n",
       "\n",
       "    .dataframe tbody tr th {\n",
       "        vertical-align: top;\n",
       "    }\n",
       "\n",
       "    .dataframe thead th {\n",
       "        text-align: right;\n",
       "    }\n",
       "</style>\n",
       "<table border=\"1\" class=\"dataframe\">\n",
       "  <thead>\n",
       "    <tr style=\"text-align: right;\">\n",
       "      <th></th>\n",
       "      <th>day</th>\n",
       "      <th>month</th>\n",
       "      <th>year</th>\n",
       "      <th>Temperature</th>\n",
       "      <th>RH</th>\n",
       "      <th>Ws</th>\n",
       "      <th>Rain</th>\n",
       "      <th>FFMC</th>\n",
       "      <th>DMC</th>\n",
       "      <th>DC</th>\n",
       "      <th>ISI</th>\n",
       "      <th>BUI</th>\n",
       "      <th>FWI</th>\n",
       "      <th>Classes</th>\n",
       "    </tr>\n",
       "  </thead>\n",
       "  <tbody>\n",
       "  </tbody>\n",
       "</table>\n",
       "</div>"
      ],
      "text/plain": [
       "Empty DataFrame\n",
       "Columns: [day, month, year, Temperature,  RH,  Ws, Rain , FFMC, DMC, DC, ISI, BUI, FWI, Classes  ]\n",
       "Index: []"
      ]
     },
     "execution_count": 18,
     "metadata": {},
     "output_type": "execute_result"
    }
   ],
   "source": [
    "df[~df['month'].str.isnumeric()]"
   ]
  },
  {
   "cell_type": "code",
   "execution_count": 19,
   "id": "4b4d0fcc-ff35-4d79-8bef-ad0a10bdaf36",
   "metadata": {},
   "outputs": [],
   "source": [
    "df['day']=df['day'].astype(int)\n",
    "df['year']=df['year'].astype(int)\n",
    "df['month']=df['month'].astype(int)"
   ]
  },
  {
   "cell_type": "markdown",
   "id": "9bc81c3e-d158-4cdf-a3b1-3a8e8fa5ec39",
   "metadata": {},
   "source": [
    "### Fixing Temperature RH Ws Rain columns"
   ]
  },
  {
   "cell_type": "code",
   "execution_count": 20,
   "id": "ce19fd4d-992a-4c52-abd7-e09bde09c494",
   "metadata": {},
   "outputs": [],
   "source": [
    "df['Temperature']=df['Temperature'].astype(int)"
   ]
  },
  {
   "cell_type": "code",
   "execution_count": 21,
   "id": "1268a6dd-0a5b-4db4-ba32-02361c3d7f0e",
   "metadata": {},
   "outputs": [
    {
     "data": {
      "text/html": [
       "<div>\n",
       "<style scoped>\n",
       "    .dataframe tbody tr th:only-of-type {\n",
       "        vertical-align: middle;\n",
       "    }\n",
       "\n",
       "    .dataframe tbody tr th {\n",
       "        vertical-align: top;\n",
       "    }\n",
       "\n",
       "    .dataframe thead th {\n",
       "        text-align: right;\n",
       "    }\n",
       "</style>\n",
       "<table border=\"1\" class=\"dataframe\">\n",
       "  <thead>\n",
       "    <tr style=\"text-align: right;\">\n",
       "      <th></th>\n",
       "      <th>day</th>\n",
       "      <th>month</th>\n",
       "      <th>year</th>\n",
       "      <th>Temperature</th>\n",
       "      <th>RH</th>\n",
       "      <th>Ws</th>\n",
       "      <th>Rain</th>\n",
       "      <th>FFMC</th>\n",
       "      <th>DMC</th>\n",
       "      <th>DC</th>\n",
       "      <th>ISI</th>\n",
       "      <th>BUI</th>\n",
       "      <th>FWI</th>\n",
       "      <th>Classes</th>\n",
       "    </tr>\n",
       "  </thead>\n",
       "  <tbody>\n",
       "  </tbody>\n",
       "</table>\n",
       "</div>"
      ],
      "text/plain": [
       "Empty DataFrame\n",
       "Columns: [day, month, year, Temperature,  RH,  Ws, Rain , FFMC, DMC, DC, ISI, BUI, FWI, Classes  ]\n",
       "Index: []"
      ]
     },
     "execution_count": 21,
     "metadata": {},
     "output_type": "execute_result"
    }
   ],
   "source": [
    "df[~df[' RH'].str.isnumeric()]"
   ]
  },
  {
   "cell_type": "markdown",
   "id": "5f14caf5-9054-43ad-8d20-781b59ec50de",
   "metadata": {},
   "source": [
    "### Fixing spaces in the  column names "
   ]
  },
  {
   "cell_type": "code",
   "execution_count": 22,
   "id": "7dfb3a82-5a66-4fe8-bb2f-c950782d1768",
   "metadata": {},
   "outputs": [
    {
     "data": {
      "text/plain": [
       "Index(['day', 'month', 'year', 'Temperature', ' RH', ' Ws', 'Rain ', 'FFMC',\n",
       "       'DMC', 'DC', 'ISI', 'BUI', 'FWI', 'Classes  '],\n",
       "      dtype='object')"
      ]
     },
     "execution_count": 22,
     "metadata": {},
     "output_type": "execute_result"
    }
   ],
   "source": [
    "df.columns"
   ]
  },
  {
   "cell_type": "code",
   "execution_count": 23,
   "id": "57abbfc1-c59d-4da0-9b43-c17758916d41",
   "metadata": {},
   "outputs": [],
   "source": [
    "df.columns=list(df.columns.str.strip()) # This will strip all the spaces from the column names "
   ]
  },
  {
   "cell_type": "code",
   "execution_count": 24,
   "id": "d04b0424-bbfd-42e5-a472-12528eb22fe3",
   "metadata": {},
   "outputs": [
    {
     "data": {
      "text/html": [
       "<div>\n",
       "<style scoped>\n",
       "    .dataframe tbody tr th:only-of-type {\n",
       "        vertical-align: middle;\n",
       "    }\n",
       "\n",
       "    .dataframe tbody tr th {\n",
       "        vertical-align: top;\n",
       "    }\n",
       "\n",
       "    .dataframe thead th {\n",
       "        text-align: right;\n",
       "    }\n",
       "</style>\n",
       "<table border=\"1\" class=\"dataframe\">\n",
       "  <thead>\n",
       "    <tr style=\"text-align: right;\">\n",
       "      <th></th>\n",
       "      <th>day</th>\n",
       "      <th>month</th>\n",
       "      <th>year</th>\n",
       "      <th>Temperature</th>\n",
       "      <th>RH</th>\n",
       "      <th>Ws</th>\n",
       "      <th>Rain</th>\n",
       "      <th>FFMC</th>\n",
       "      <th>DMC</th>\n",
       "      <th>DC</th>\n",
       "      <th>ISI</th>\n",
       "      <th>BUI</th>\n",
       "      <th>FWI</th>\n",
       "      <th>Classes</th>\n",
       "    </tr>\n",
       "  </thead>\n",
       "  <tbody>\n",
       "  </tbody>\n",
       "</table>\n",
       "</div>"
      ],
      "text/plain": [
       "Empty DataFrame\n",
       "Columns: [day, month, year, Temperature, RH, Ws, Rain, FFMC, DMC, DC, ISI, BUI, FWI, Classes]\n",
       "Index: []"
      ]
     },
     "execution_count": 24,
     "metadata": {},
     "output_type": "execute_result"
    }
   ],
   "source": [
    "df[~df['Ws'].str.isnumeric()]"
   ]
  },
  {
   "cell_type": "code",
   "execution_count": 25,
   "id": "ed43e825-257c-4d5d-8cf2-0e79a2c083b5",
   "metadata": {},
   "outputs": [],
   "source": [
    "df['RH']=df['RH'].astype(int)\n",
    "df['Ws']=df['Ws'].astype(int)"
   ]
  },
  {
   "cell_type": "code",
   "execution_count": 26,
   "id": "876d514a-8d81-47da-962c-0a8f461c5ad6",
   "metadata": {},
   "outputs": [
    {
     "data": {
      "text/html": [
       "<div>\n",
       "<style scoped>\n",
       "    .dataframe tbody tr th:only-of-type {\n",
       "        vertical-align: middle;\n",
       "    }\n",
       "\n",
       "    .dataframe tbody tr th {\n",
       "        vertical-align: top;\n",
       "    }\n",
       "\n",
       "    .dataframe thead th {\n",
       "        text-align: right;\n",
       "    }\n",
       "</style>\n",
       "<table border=\"1\" class=\"dataframe\">\n",
       "  <thead>\n",
       "    <tr style=\"text-align: right;\">\n",
       "      <th></th>\n",
       "      <th>day</th>\n",
       "      <th>month</th>\n",
       "      <th>year</th>\n",
       "      <th>Temperature</th>\n",
       "      <th>RH</th>\n",
       "      <th>Ws</th>\n",
       "      <th>Rain</th>\n",
       "      <th>FFMC</th>\n",
       "      <th>DMC</th>\n",
       "      <th>DC</th>\n",
       "      <th>ISI</th>\n",
       "      <th>BUI</th>\n",
       "      <th>FWI</th>\n",
       "      <th>Classes</th>\n",
       "    </tr>\n",
       "  </thead>\n",
       "  <tbody>\n",
       "    <tr>\n",
       "      <th>1</th>\n",
       "      <td>2</td>\n",
       "      <td>6</td>\n",
       "      <td>2012</td>\n",
       "      <td>29</td>\n",
       "      <td>61</td>\n",
       "      <td>13</td>\n",
       "      <td>1.3</td>\n",
       "      <td>64.4</td>\n",
       "      <td>4.1</td>\n",
       "      <td>7.6</td>\n",
       "      <td>1</td>\n",
       "      <td>3.9</td>\n",
       "      <td>0.4</td>\n",
       "      <td>not fire</td>\n",
       "    </tr>\n",
       "    <tr>\n",
       "      <th>2</th>\n",
       "      <td>3</td>\n",
       "      <td>6</td>\n",
       "      <td>2012</td>\n",
       "      <td>26</td>\n",
       "      <td>82</td>\n",
       "      <td>22</td>\n",
       "      <td>13.1</td>\n",
       "      <td>47.1</td>\n",
       "      <td>2.5</td>\n",
       "      <td>7.1</td>\n",
       "      <td>0.3</td>\n",
       "      <td>2.7</td>\n",
       "      <td>0.1</td>\n",
       "      <td>not fire</td>\n",
       "    </tr>\n",
       "    <tr>\n",
       "      <th>3</th>\n",
       "      <td>4</td>\n",
       "      <td>6</td>\n",
       "      <td>2012</td>\n",
       "      <td>25</td>\n",
       "      <td>89</td>\n",
       "      <td>13</td>\n",
       "      <td>2.5</td>\n",
       "      <td>28.6</td>\n",
       "      <td>1.3</td>\n",
       "      <td>6.9</td>\n",
       "      <td>0</td>\n",
       "      <td>1.7</td>\n",
       "      <td>0</td>\n",
       "      <td>not fire</td>\n",
       "    </tr>\n",
       "    <tr>\n",
       "      <th>8</th>\n",
       "      <td>9</td>\n",
       "      <td>6</td>\n",
       "      <td>2012</td>\n",
       "      <td>25</td>\n",
       "      <td>88</td>\n",
       "      <td>13</td>\n",
       "      <td>0.2</td>\n",
       "      <td>52.9</td>\n",
       "      <td>7.9</td>\n",
       "      <td>38.8</td>\n",
       "      <td>0.4</td>\n",
       "      <td>10.5</td>\n",
       "      <td>0.3</td>\n",
       "      <td>not fire</td>\n",
       "    </tr>\n",
       "    <tr>\n",
       "      <th>12</th>\n",
       "      <td>13</td>\n",
       "      <td>6</td>\n",
       "      <td>2012</td>\n",
       "      <td>27</td>\n",
       "      <td>84</td>\n",
       "      <td>21</td>\n",
       "      <td>1.2</td>\n",
       "      <td>50</td>\n",
       "      <td>6.7</td>\n",
       "      <td>17</td>\n",
       "      <td>0.5</td>\n",
       "      <td>6.7</td>\n",
       "      <td>0.2</td>\n",
       "      <td>not fire</td>\n",
       "    </tr>\n",
       "    <tr>\n",
       "      <th>...</th>\n",
       "      <td>...</td>\n",
       "      <td>...</td>\n",
       "      <td>...</td>\n",
       "      <td>...</td>\n",
       "      <td>...</td>\n",
       "      <td>...</td>\n",
       "      <td>...</td>\n",
       "      <td>...</td>\n",
       "      <td>...</td>\n",
       "      <td>...</td>\n",
       "      <td>...</td>\n",
       "      <td>...</td>\n",
       "      <td>...</td>\n",
       "      <td>...</td>\n",
       "    </tr>\n",
       "    <tr>\n",
       "      <th>235</th>\n",
       "      <td>20</td>\n",
       "      <td>9</td>\n",
       "      <td>2012</td>\n",
       "      <td>34</td>\n",
       "      <td>58</td>\n",
       "      <td>13</td>\n",
       "      <td>0.2</td>\n",
       "      <td>79.5</td>\n",
       "      <td>18.7</td>\n",
       "      <td>88</td>\n",
       "      <td>2.1</td>\n",
       "      <td>24.4</td>\n",
       "      <td>3.8</td>\n",
       "      <td>not fire</td>\n",
       "    </tr>\n",
       "    <tr>\n",
       "      <th>242</th>\n",
       "      <td>27</td>\n",
       "      <td>9</td>\n",
       "      <td>2012</td>\n",
       "      <td>28</td>\n",
       "      <td>87</td>\n",
       "      <td>15</td>\n",
       "      <td>4.4</td>\n",
       "      <td>41.1</td>\n",
       "      <td>6.5</td>\n",
       "      <td>8</td>\n",
       "      <td>0.1</td>\n",
       "      <td>6.2</td>\n",
       "      <td>0</td>\n",
       "      <td>not fire</td>\n",
       "    </tr>\n",
       "    <tr>\n",
       "      <th>243</th>\n",
       "      <td>28</td>\n",
       "      <td>9</td>\n",
       "      <td>2012</td>\n",
       "      <td>27</td>\n",
       "      <td>87</td>\n",
       "      <td>29</td>\n",
       "      <td>0.5</td>\n",
       "      <td>45.9</td>\n",
       "      <td>3.5</td>\n",
       "      <td>7.9</td>\n",
       "      <td>0.4</td>\n",
       "      <td>3.4</td>\n",
       "      <td>0.2</td>\n",
       "      <td>not fire</td>\n",
       "    </tr>\n",
       "    <tr>\n",
       "      <th>244</th>\n",
       "      <td>29</td>\n",
       "      <td>9</td>\n",
       "      <td>2012</td>\n",
       "      <td>24</td>\n",
       "      <td>54</td>\n",
       "      <td>18</td>\n",
       "      <td>0.1</td>\n",
       "      <td>79.7</td>\n",
       "      <td>4.3</td>\n",
       "      <td>15.2</td>\n",
       "      <td>1.7</td>\n",
       "      <td>5.1</td>\n",
       "      <td>0.7</td>\n",
       "      <td>not fire</td>\n",
       "    </tr>\n",
       "    <tr>\n",
       "      <th>245</th>\n",
       "      <td>30</td>\n",
       "      <td>9</td>\n",
       "      <td>2012</td>\n",
       "      <td>24</td>\n",
       "      <td>64</td>\n",
       "      <td>15</td>\n",
       "      <td>0.2</td>\n",
       "      <td>67.3</td>\n",
       "      <td>3.8</td>\n",
       "      <td>16.5</td>\n",
       "      <td>1.2</td>\n",
       "      <td>4.8</td>\n",
       "      <td>0.5</td>\n",
       "      <td>not fire</td>\n",
       "    </tr>\n",
       "  </tbody>\n",
       "</table>\n",
       "<p>104 rows × 14 columns</p>\n",
       "</div>"
      ],
      "text/plain": [
       "     day  month  year  Temperature  RH  Ws  Rain  FFMC   DMC    DC  ISI   BUI  \\\n",
       "1      2      6  2012           29  61  13   1.3  64.4   4.1   7.6    1   3.9   \n",
       "2      3      6  2012           26  82  22  13.1  47.1   2.5   7.1  0.3   2.7   \n",
       "3      4      6  2012           25  89  13   2.5  28.6   1.3   6.9    0   1.7   \n",
       "8      9      6  2012           25  88  13   0.2  52.9   7.9  38.8  0.4  10.5   \n",
       "12    13      6  2012           27  84  21   1.2    50   6.7    17  0.5   6.7   \n",
       "..   ...    ...   ...          ...  ..  ..   ...   ...   ...   ...  ...   ...   \n",
       "235   20      9  2012           34  58  13   0.2  79.5  18.7    88  2.1  24.4   \n",
       "242   27      9  2012           28  87  15   4.4  41.1   6.5     8  0.1   6.2   \n",
       "243   28      9  2012           27  87  29   0.5  45.9   3.5   7.9  0.4   3.4   \n",
       "244   29      9  2012           24  54  18   0.1  79.7   4.3  15.2  1.7   5.1   \n",
       "245   30      9  2012           24  64  15   0.2  67.3   3.8  16.5  1.2   4.8   \n",
       "\n",
       "     FWI       Classes  \n",
       "1    0.4   not fire     \n",
       "2    0.1   not fire     \n",
       "3      0   not fire     \n",
       "8    0.3   not fire     \n",
       "12   0.2   not fire     \n",
       "..   ...           ...  \n",
       "235  3.8   not fire     \n",
       "242    0   not fire     \n",
       "243  0.2   not fire     \n",
       "244  0.7   not fire     \n",
       "245  0.5  not fire      \n",
       "\n",
       "[104 rows x 14 columns]"
      ]
     },
     "execution_count": 26,
     "metadata": {},
     "output_type": "execute_result"
    }
   ],
   "source": [
    "df[~df['Rain'].str.isnumeric()]"
   ]
  },
  {
   "cell_type": "markdown",
   "id": "a7691a9e-5b8d-4c14-a39d-d5883194c887",
   "metadata": {},
   "source": [
    "Meaning rain column as decimals so we will convert it into float type"
   ]
  },
  {
   "cell_type": "code",
   "execution_count": 27,
   "id": "608857f1-599f-4398-ab67-196d8a9cd3d4",
   "metadata": {},
   "outputs": [],
   "source": [
    "df['Rain']=df['Rain'].astype(float)"
   ]
  },
  {
   "cell_type": "markdown",
   "id": "cfbf8c2a-865d-4390-bdd1-b7b7b146b484",
   "metadata": {},
   "source": [
    "### Fixing FFMC,DMC,DC,ISI,BUI,FWI columns"
   ]
  },
  {
   "cell_type": "code",
   "execution_count": 28,
   "id": "6941f177-9f40-4083-a207-c3f1f9fc036c",
   "metadata": {},
   "outputs": [
    {
     "data": {
      "text/plain": [
       "array(['7.6', '7.1', '6.9', '14.2', '22.2', '30.5', '38.3', '38.8',\n",
       "       '46.3', '54.3', '61.4', '17', '7.8', '7.4', '8', '16', '27.1',\n",
       "       '31.6', '39.5', '47.7', '55.8', '63.8', '71.8', '80.3', '88.5',\n",
       "       '84.4', '92.8', '8.6', '8.3', '9.2', '18.5', '27.9', '37', '40.4',\n",
       "       '49.8', '9.3', '18.7', '27.7', '37.2', '22.9', '25.5', '34.1',\n",
       "       '43.1', '52.8', '62.1', '71.5', '79.9', '71.3', '79.7', '88.7',\n",
       "       '98.6', '108.5', '117.8', '127', '136', '145.7', '10.2', '10',\n",
       "       '19.8', '29.7', '39.1', '48.6', '47', '57', '67', '77', '75.1',\n",
       "       '85.1', '94.7', '92.5', '90.4', '100.7', '110.9', '120.9', '130.6',\n",
       "       '141.1', '151.3', '161.5', '171.3', '181.3', '190.6', '200.2',\n",
       "       '210.4', '220.4', '180.4', '8.7', '7.5', '7', '15.7', '24', '32.2',\n",
       "       '30.1', '8.4', '8.9', '16.6', '7.3', '24.3', '33.1', '41.3',\n",
       "       '49.3', '57.9', '41.4', '30.4', '15.2', '7.7', '16.3', '24.9',\n",
       "       '8.8', '8.2', '15.4', '17.6', '26.3', '28.9', '14.7', '22.5',\n",
       "       '37.8', '18.4', '25.6', '34.5', '43.3', '52.4', '36.7', '8.5',\n",
       "       '17.8', '27.3', '36.8', '46.4', '45.1', '35.4', '9.7', '9.9',\n",
       "       '9.5', '19.4', '10.4', '14.6 9', '24.1', '42.3', '51.6', '61.1',\n",
       "       '71', '80.6', '90.1', '99', '56.6', '15.9', '19.7', '28.3', '37.6',\n",
       "       '47.2', '57.1', '67.2', '10.5', '21.4', '32.1', '42.7', '52.5',\n",
       "       '9.1', '9.8', '20.2', '30.9', '41.5', '55.5', '54.2', '65.1',\n",
       "       '76.4', '86.8', '96.8', '107', '117.1', '127.5', '137.7', '147.7',\n",
       "       '157.5', '167.2', '177.3', '166', '149.2', '159.1', '168.2',\n",
       "       '26.6', '17.7', '26.1', '25.2', '33.4', '50.2', '59.2', '63.3',\n",
       "       '77.8', '86', '88', '97.3', '106.3', '115.6', '28.1', '36.1',\n",
       "       '44.5', '7.9', '16.5'], dtype=object)"
      ]
     },
     "execution_count": 28,
     "metadata": {},
     "output_type": "execute_result"
    }
   ],
   "source": [
    "df['DC'].unique()"
   ]
  },
  {
   "cell_type": "code",
   "execution_count": 29,
   "id": "b059a442-2d96-4963-a759-5a74bdfa109a",
   "metadata": {},
   "outputs": [],
   "source": [
    "df['DC'].replace('14.6 9','14.6',inplace=True)"
   ]
  },
  {
   "cell_type": "code",
   "execution_count": 30,
   "id": "5012eb46-e2cd-4ea1-a714-cf0c0e419cd8",
   "metadata": {},
   "outputs": [
    {
     "data": {
      "text/plain": [
       "array(['0.5', '0.4', '0.1', '0', '2.5', '7.2', '7.1', '0.3', '0.9', '5.6',\n",
       "       '7.1 ', '0.2', '1.4', '2.2', '2.3', '3.8', '7.5', '8.4', '10.6',\n",
       "       '15', '13.9', '3.9', '12.9', '1.7', '4.9', '6.8', '3.2', '8',\n",
       "       '0.6', '3.4', '0.8', '3.6', '6', '10.9', '4', '8.8', '2.8', '2.1',\n",
       "       '1.3', '7.3', '15.3', '11.3', '11.9', '10.7', '15.7', '6.1', '2.6',\n",
       "       '9.9', '11.6', '12.1', '4.2', '10.2', '6.3', '14.6', '16.1',\n",
       "       '17.2', '16.8', '18.4', '20.4', '22.3', '20.9', '20.3', '13.7',\n",
       "       '13.2', '19.9', '30.2', '5.9', '7.7', '9.7', '8.3', '0.7', '4.1',\n",
       "       '1', '3.1', '1.9', '10', '16.7', '1.2', '5.3', '6.7', '9.5', '12',\n",
       "       '6.4', '5.2', '3', '9.6', '4.7', 'fire   ', '14.1', '9.1', '13',\n",
       "       '17.3', '30', '25.4', '16.3', '9', '14.5', '13.5', '19.5', '12.6',\n",
       "       '12.7', '21.6', '18.8', '10.5', '5.5', '14.8', '24', '26.3',\n",
       "       '12.2', '18.1', '24.5', '26.9', '31.1', '30.3', '26.1', '16',\n",
       "       '19.4', '2.7', '3.7', '10.3', '5.7', '9.8', '19.3', '17.5', '15.4',\n",
       "       '15.2', '6.5'], dtype=object)"
      ]
     },
     "execution_count": 30,
     "metadata": {},
     "output_type": "execute_result"
    }
   ],
   "source": [
    "df['FWI'].unique()"
   ]
  },
  {
   "cell_type": "code",
   "execution_count": 31,
   "id": "954bb245-e749-44a1-956e-79551aba1ddc",
   "metadata": {},
   "outputs": [],
   "source": [
    "l1=['0.5', '0.4', '0.1', '0', '2.5', '7.2', '7.1', '0.3', '0.9', '5.6',\n",
    "       '7.1 ', '0.2', '1.4', '2.2', '2.3', '3.8', '7.5', '8.4', '10.6',\n",
    "       '15', '13.9', '3.9', '12.9', '1.7', '4.9', '6.8', '3.2', '8',\n",
    "       '0.6', '3.4', '0.8', '3.6', '6', '10.9', '4', '8.8', '2.8', '2.1',\n",
    "       '1.3', '7.3', '15.3', '11.3', '11.9', '10.7', '15.7', '6.1', '2.6',\n",
    "       '9.9', '11.6', '12.1', '4.2', '10.2', '6.3', '14.6', '16.1',\n",
    "       '17.2', '16.8', '18.4', '20.4', '22.3', '20.9', '20.3', '13.7',\n",
    "       '13.2', '19.9', '30.2', '5.9', '7.7', '9.7', '8.3', '0.7', '4.1',\n",
    "       '1', '3.1', '1.9', '10', '16.7', '1.2', '5.3', '6.7', '9.5', '12',\n",
    "       '6.4', '5.2', '3', '9.6', '4.7', '0', '14.1', '9.1', '13',\n",
    "       '17.3', '30', '25.4', '16.3', '9', '14.5', '13.5', '19.5', '12.6',\n",
    "       '12.7', '21.6', '18.8', '10.5', '5.5', '14.8', '24', '26.3',\n",
    "       '12.2', '18.1', '24.5', '26.9', '31.1', '30.3', '26.1', '16',\n",
    "       '19.4', '2.7', '3.7', '10.3', '5.7', '9.8', '19.3', '17.5', '15.4',\n",
    "       '15.2', '6.5']"
   ]
  },
  {
   "cell_type": "code",
   "execution_count": 32,
   "id": "71714a88-b614-4a33-b213-fac4a28c2dd1",
   "metadata": {},
   "outputs": [],
   "source": [
    "l1_numeric=[float(x) for x in l1]"
   ]
  },
  {
   "cell_type": "code",
   "execution_count": 33,
   "id": "6a52cb4d-5375-4c26-9ce7-5a0291480b1d",
   "metadata": {},
   "outputs": [
    {
     "data": {
      "text/plain": [
       "10.502362204724411"
      ]
     },
     "execution_count": 33,
     "metadata": {},
     "output_type": "execute_result"
    }
   ],
   "source": [
    "np.mean(l1_numeric)"
   ]
  },
  {
   "cell_type": "code",
   "execution_count": 34,
   "id": "b890a7a9-108b-4e36-8a96-a0a49cc5605d",
   "metadata": {},
   "outputs": [],
   "source": [
    "df['FWI'].replace('fire   ','10.50',inplace=True)"
   ]
  },
  {
   "cell_type": "code",
   "execution_count": 35,
   "id": "185cad0e-eea0-46de-b373-612148f5e97b",
   "metadata": {},
   "outputs": [
    {
     "name": "stdout",
     "output_type": "stream",
     "text": [
      "FFMC\n",
      "DMC\n",
      "DC\n",
      "ISI\n",
      "BUI\n",
      "FWI\n"
     ]
    }
   ],
   "source": [
    "for i in ['FFMC','DMC','DC','ISI','BUI','FWI']:\n",
    "    df[f'{i}']=df[f'{i}'].astype(float)\n",
    "    print(i)"
   ]
  },
  {
   "cell_type": "markdown",
   "id": "33900bfe-e732-4332-9339-6633af3c63a2",
   "metadata": {},
   "source": [
    "### Fixing classes column removing spaces and nan values "
   ]
  },
  {
   "cell_type": "code",
   "execution_count": 36,
   "id": "5056f3ec-fc17-42cc-800f-2d8525f70b25",
   "metadata": {},
   "outputs": [
    {
     "data": {
      "text/plain": [
       "array(['not fire   ', 'fire   ', 'fire', 'fire ', 'not fire', 'not fire ',\n",
       "       'not fire     ', nan, 'not fire    '], dtype=object)"
      ]
     },
     "execution_count": 36,
     "metadata": {},
     "output_type": "execute_result"
    }
   ],
   "source": [
    "df['Classes'].unique()"
   ]
  },
  {
   "cell_type": "code",
   "execution_count": 37,
   "id": "cff0bfd4-15a5-415b-964c-0936d0b99314",
   "metadata": {},
   "outputs": [],
   "source": [
    "df['Classes']=df['Classes'].str.strip()"
   ]
  },
  {
   "cell_type": "code",
   "execution_count": 38,
   "id": "09dc850d-60c4-4498-8746-e52457eade25",
   "metadata": {},
   "outputs": [
    {
     "data": {
      "text/plain": [
       "array(['not fire', 'fire', nan], dtype=object)"
      ]
     },
     "execution_count": 38,
     "metadata": {},
     "output_type": "execute_result"
    }
   ],
   "source": [
    "df['Classes'].unique()"
   ]
  },
  {
   "cell_type": "code",
   "execution_count": 39,
   "id": "05de3761-9405-47cd-b0f9-c0bb55881123",
   "metadata": {},
   "outputs": [
    {
     "data": {
      "text/html": [
       "<div>\n",
       "<style scoped>\n",
       "    .dataframe tbody tr th:only-of-type {\n",
       "        vertical-align: middle;\n",
       "    }\n",
       "\n",
       "    .dataframe tbody tr th {\n",
       "        vertical-align: top;\n",
       "    }\n",
       "\n",
       "    .dataframe thead th {\n",
       "        text-align: right;\n",
       "    }\n",
       "</style>\n",
       "<table border=\"1\" class=\"dataframe\">\n",
       "  <thead>\n",
       "    <tr style=\"text-align: right;\">\n",
       "      <th></th>\n",
       "      <th>day</th>\n",
       "      <th>month</th>\n",
       "      <th>year</th>\n",
       "      <th>Temperature</th>\n",
       "      <th>RH</th>\n",
       "      <th>Ws</th>\n",
       "      <th>Rain</th>\n",
       "      <th>FFMC</th>\n",
       "      <th>DMC</th>\n",
       "      <th>DC</th>\n",
       "      <th>ISI</th>\n",
       "      <th>BUI</th>\n",
       "      <th>FWI</th>\n",
       "      <th>Classes</th>\n",
       "    </tr>\n",
       "  </thead>\n",
       "  <tbody>\n",
       "    <tr>\n",
       "      <th>167</th>\n",
       "      <td>14</td>\n",
       "      <td>7</td>\n",
       "      <td>2012</td>\n",
       "      <td>37</td>\n",
       "      <td>37</td>\n",
       "      <td>18</td>\n",
       "      <td>0.2</td>\n",
       "      <td>88.9</td>\n",
       "      <td>12.9</td>\n",
       "      <td>14.6</td>\n",
       "      <td>12.5</td>\n",
       "      <td>10.4</td>\n",
       "      <td>10.5</td>\n",
       "      <td>NaN</td>\n",
       "    </tr>\n",
       "  </tbody>\n",
       "</table>\n",
       "</div>"
      ],
      "text/plain": [
       "     day  month  year  Temperature  RH  Ws  Rain  FFMC   DMC    DC   ISI  \\\n",
       "167   14      7  2012           37  37  18   0.2  88.9  12.9  14.6  12.5   \n",
       "\n",
       "      BUI   FWI Classes  \n",
       "167  10.4  10.5     NaN  "
      ]
     },
     "execution_count": 39,
     "metadata": {},
     "output_type": "execute_result"
    }
   ],
   "source": [
    "df[df['Classes'].isnull()]"
   ]
  },
  {
   "cell_type": "code",
   "execution_count": 40,
   "id": "d6a5b53b-b7d1-4ab4-b579-c8841ec2eb49",
   "metadata": {},
   "outputs": [],
   "source": [
    "df['Classes']=df['Classes'].fillna(value=df['Classes'].mode()[0])"
   ]
  },
  {
   "cell_type": "code",
   "execution_count": 41,
   "id": "b8b194d5-6598-4b3f-b520-0d373a2e2cbe",
   "metadata": {},
   "outputs": [
    {
     "data": {
      "text/html": [
       "<div>\n",
       "<style scoped>\n",
       "    .dataframe tbody tr th:only-of-type {\n",
       "        vertical-align: middle;\n",
       "    }\n",
       "\n",
       "    .dataframe tbody tr th {\n",
       "        vertical-align: top;\n",
       "    }\n",
       "\n",
       "    .dataframe thead th {\n",
       "        text-align: right;\n",
       "    }\n",
       "</style>\n",
       "<table border=\"1\" class=\"dataframe\">\n",
       "  <thead>\n",
       "    <tr style=\"text-align: right;\">\n",
       "      <th></th>\n",
       "      <th>day</th>\n",
       "      <th>month</th>\n",
       "      <th>year</th>\n",
       "      <th>Temperature</th>\n",
       "      <th>RH</th>\n",
       "      <th>Ws</th>\n",
       "      <th>Rain</th>\n",
       "      <th>FFMC</th>\n",
       "      <th>DMC</th>\n",
       "      <th>DC</th>\n",
       "      <th>ISI</th>\n",
       "      <th>BUI</th>\n",
       "      <th>FWI</th>\n",
       "      <th>Classes</th>\n",
       "    </tr>\n",
       "  </thead>\n",
       "  <tbody>\n",
       "  </tbody>\n",
       "</table>\n",
       "</div>"
      ],
      "text/plain": [
       "Empty DataFrame\n",
       "Columns: [day, month, year, Temperature, RH, Ws, Rain, FFMC, DMC, DC, ISI, BUI, FWI, Classes]\n",
       "Index: []"
      ]
     },
     "execution_count": 41,
     "metadata": {},
     "output_type": "execute_result"
    }
   ],
   "source": [
    "df[df['Classes'].isnull()]"
   ]
  },
  {
   "cell_type": "code",
   "execution_count": 42,
   "id": "3fe57f35-d339-479c-ac3d-37cbd8387cf1",
   "metadata": {},
   "outputs": [],
   "source": [
    "df_fixed=pd.concat([df,pd.get_dummies(df['Classes'])],axis='columns')"
   ]
  },
  {
   "cell_type": "code",
   "execution_count": 43,
   "id": "26ec425a-2902-4ebc-94e1-313665640fd7",
   "metadata": {},
   "outputs": [
    {
     "name": "stdout",
     "output_type": "stream",
     "text": [
      "<class 'pandas.core.frame.DataFrame'>\n",
      "Int64Index: 244 entries, 0 to 245\n",
      "Data columns (total 16 columns):\n",
      " #   Column       Non-Null Count  Dtype  \n",
      "---  ------       --------------  -----  \n",
      " 0   day          244 non-null    int64  \n",
      " 1   month        244 non-null    int64  \n",
      " 2   year         244 non-null    int64  \n",
      " 3   Temperature  244 non-null    int64  \n",
      " 4   RH           244 non-null    int64  \n",
      " 5   Ws           244 non-null    int64  \n",
      " 6   Rain         244 non-null    float64\n",
      " 7   FFMC         244 non-null    float64\n",
      " 8   DMC          244 non-null    float64\n",
      " 9   DC           244 non-null    float64\n",
      " 10  ISI          244 non-null    float64\n",
      " 11  BUI          244 non-null    float64\n",
      " 12  FWI          244 non-null    float64\n",
      " 13  Classes      244 non-null    object \n",
      " 14  fire         244 non-null    uint8  \n",
      " 15  not fire     244 non-null    uint8  \n",
      "dtypes: float64(7), int64(6), object(1), uint8(2)\n",
      "memory usage: 29.1+ KB\n"
     ]
    }
   ],
   "source": [
    "df_fixed.info()"
   ]
  },
  {
   "cell_type": "markdown",
   "id": "054cd43e-da0b-4a83-8c74-8c1044b4b7b6",
   "metadata": {},
   "source": [
    "### Fixing Multicollinearity \n",
    "* removing columns that are highly related to each other like 80 percent related "
   ]
  },
  {
   "cell_type": "code",
   "execution_count": 44,
   "id": "379099eb-165b-4b04-9caa-edc136631881",
   "metadata": {},
   "outputs": [
    {
     "data": {
      "text/plain": [
       "Index(['day', 'month', 'year', 'Temperature', 'RH', 'Ws', 'Rain', 'FFMC',\n",
       "       'DMC', 'DC', 'ISI', 'BUI', 'FWI', 'Classes', 'fire', 'not fire'],\n",
       "      dtype='object')"
      ]
     },
     "execution_count": 44,
     "metadata": {},
     "output_type": "execute_result"
    }
   ],
   "source": [
    "df_fixed.columns"
   ]
  },
  {
   "cell_type": "code",
   "execution_count": 45,
   "id": "18adb1a8-914d-4cc1-89dd-da4bacb3789f",
   "metadata": {},
   "outputs": [],
   "source": [
    "corr=df_fixed[['RH', 'Ws', 'Rain', 'FFMC','DMC', 'DC', 'ISI', 'BUI', 'FWI', 'Classes']].corr()"
   ]
  },
  {
   "cell_type": "code",
   "execution_count": 46,
   "id": "ae349612-77a6-4a7a-955f-4ab34c012e68",
   "metadata": {},
   "outputs": [
    {
     "data": {
      "text/html": [
       "<div>\n",
       "<style scoped>\n",
       "    .dataframe tbody tr th:only-of-type {\n",
       "        vertical-align: middle;\n",
       "    }\n",
       "\n",
       "    .dataframe tbody tr th {\n",
       "        vertical-align: top;\n",
       "    }\n",
       "\n",
       "    .dataframe thead th {\n",
       "        text-align: right;\n",
       "    }\n",
       "</style>\n",
       "<table border=\"1\" class=\"dataframe\">\n",
       "  <thead>\n",
       "    <tr style=\"text-align: right;\">\n",
       "      <th></th>\n",
       "      <th>RH</th>\n",
       "      <th>Ws</th>\n",
       "      <th>Rain</th>\n",
       "      <th>FFMC</th>\n",
       "      <th>DMC</th>\n",
       "      <th>DC</th>\n",
       "      <th>ISI</th>\n",
       "      <th>BUI</th>\n",
       "      <th>FWI</th>\n",
       "    </tr>\n",
       "  </thead>\n",
       "  <tbody>\n",
       "    <tr>\n",
       "      <th>RH</th>\n",
       "      <td>1.000000</td>\n",
       "      <td>0.236084</td>\n",
       "      <td>0.222968</td>\n",
       "      <td>-0.645658</td>\n",
       "      <td>-0.405133</td>\n",
       "      <td>-0.220330</td>\n",
       "      <td>-0.690637</td>\n",
       "      <td>-0.348587</td>\n",
       "      <td>-0.580536</td>\n",
       "    </tr>\n",
       "    <tr>\n",
       "      <th>Ws</th>\n",
       "      <td>0.236084</td>\n",
       "      <td>1.000000</td>\n",
       "      <td>0.170169</td>\n",
       "      <td>-0.163255</td>\n",
       "      <td>-0.001246</td>\n",
       "      <td>0.076245</td>\n",
       "      <td>0.015248</td>\n",
       "      <td>0.029756</td>\n",
       "      <td>0.034005</td>\n",
       "    </tr>\n",
       "    <tr>\n",
       "      <th>Rain</th>\n",
       "      <td>0.222968</td>\n",
       "      <td>0.170169</td>\n",
       "      <td>1.000000</td>\n",
       "      <td>-0.544045</td>\n",
       "      <td>-0.288548</td>\n",
       "      <td>-0.296804</td>\n",
       "      <td>-0.347105</td>\n",
       "      <td>-0.299171</td>\n",
       "      <td>-0.324762</td>\n",
       "    </tr>\n",
       "    <tr>\n",
       "      <th>FFMC</th>\n",
       "      <td>-0.645658</td>\n",
       "      <td>-0.163255</td>\n",
       "      <td>-0.544045</td>\n",
       "      <td>1.000000</td>\n",
       "      <td>0.602391</td>\n",
       "      <td>0.503910</td>\n",
       "      <td>0.739730</td>\n",
       "      <td>0.589652</td>\n",
       "      <td>0.691455</td>\n",
       "    </tr>\n",
       "    <tr>\n",
       "      <th>DMC</th>\n",
       "      <td>-0.405133</td>\n",
       "      <td>-0.001246</td>\n",
       "      <td>-0.288548</td>\n",
       "      <td>0.602391</td>\n",
       "      <td>1.000000</td>\n",
       "      <td>0.875358</td>\n",
       "      <td>0.674499</td>\n",
       "      <td>0.982073</td>\n",
       "      <td>0.875161</td>\n",
       "    </tr>\n",
       "    <tr>\n",
       "      <th>DC</th>\n",
       "      <td>-0.220330</td>\n",
       "      <td>0.076245</td>\n",
       "      <td>-0.296804</td>\n",
       "      <td>0.503910</td>\n",
       "      <td>0.875358</td>\n",
       "      <td>1.000000</td>\n",
       "      <td>0.498909</td>\n",
       "      <td>0.941904</td>\n",
       "      <td>0.736982</td>\n",
       "    </tr>\n",
       "    <tr>\n",
       "      <th>ISI</th>\n",
       "      <td>-0.690637</td>\n",
       "      <td>0.015248</td>\n",
       "      <td>-0.347105</td>\n",
       "      <td>0.739730</td>\n",
       "      <td>0.674499</td>\n",
       "      <td>0.498909</td>\n",
       "      <td>1.000000</td>\n",
       "      <td>0.635891</td>\n",
       "      <td>0.919486</td>\n",
       "    </tr>\n",
       "    <tr>\n",
       "      <th>BUI</th>\n",
       "      <td>-0.348587</td>\n",
       "      <td>0.029756</td>\n",
       "      <td>-0.299171</td>\n",
       "      <td>0.589652</td>\n",
       "      <td>0.982073</td>\n",
       "      <td>0.941904</td>\n",
       "      <td>0.635891</td>\n",
       "      <td>1.000000</td>\n",
       "      <td>0.856399</td>\n",
       "    </tr>\n",
       "    <tr>\n",
       "      <th>FWI</th>\n",
       "      <td>-0.580536</td>\n",
       "      <td>0.034005</td>\n",
       "      <td>-0.324762</td>\n",
       "      <td>0.691455</td>\n",
       "      <td>0.875161</td>\n",
       "      <td>0.736982</td>\n",
       "      <td>0.919486</td>\n",
       "      <td>0.856399</td>\n",
       "      <td>1.000000</td>\n",
       "    </tr>\n",
       "  </tbody>\n",
       "</table>\n",
       "</div>"
      ],
      "text/plain": [
       "            RH        Ws      Rain      FFMC       DMC        DC       ISI  \\\n",
       "RH    1.000000  0.236084  0.222968 -0.645658 -0.405133 -0.220330 -0.690637   \n",
       "Ws    0.236084  1.000000  0.170169 -0.163255 -0.001246  0.076245  0.015248   \n",
       "Rain  0.222968  0.170169  1.000000 -0.544045 -0.288548 -0.296804 -0.347105   \n",
       "FFMC -0.645658 -0.163255 -0.544045  1.000000  0.602391  0.503910  0.739730   \n",
       "DMC  -0.405133 -0.001246 -0.288548  0.602391  1.000000  0.875358  0.674499   \n",
       "DC   -0.220330  0.076245 -0.296804  0.503910  0.875358  1.000000  0.498909   \n",
       "ISI  -0.690637  0.015248 -0.347105  0.739730  0.674499  0.498909  1.000000   \n",
       "BUI  -0.348587  0.029756 -0.299171  0.589652  0.982073  0.941904  0.635891   \n",
       "FWI  -0.580536  0.034005 -0.324762  0.691455  0.875161  0.736982  0.919486   \n",
       "\n",
       "           BUI       FWI  \n",
       "RH   -0.348587 -0.580536  \n",
       "Ws    0.029756  0.034005  \n",
       "Rain -0.299171 -0.324762  \n",
       "FFMC  0.589652  0.691455  \n",
       "DMC   0.982073  0.875161  \n",
       "DC    0.941904  0.736982  \n",
       "ISI   0.635891  0.919486  \n",
       "BUI   1.000000  0.856399  \n",
       "FWI   0.856399  1.000000  "
      ]
     },
     "execution_count": 46,
     "metadata": {},
     "output_type": "execute_result"
    }
   ],
   "source": [
    "corr"
   ]
  },
  {
   "cell_type": "code",
   "execution_count": 47,
   "id": "e9a089fe-2962-4be0-abb4-0c28f22d5e7d",
   "metadata": {},
   "outputs": [
    {
     "data": {
      "text/plain": [
       "<AxesSubplot: >"
      ]
     },
     "execution_count": 47,
     "metadata": {},
     "output_type": "execute_result"
    },
    {
     "data": {
      "image/png": "[encoded data removed]",
      "text/plain": [
       "<Figure size 640x480 with 2 Axes>"
      ]
     },
     "metadata": {},
     "output_type": "display_data"
    }
   ],
   "source": [
    "sns.heatmap(corr,annot=True)"
   ]
  },
  {
   "cell_type": "code",
   "execution_count": 48,
   "id": "df9e5aed-f1bc-4770-a82b-e95f59ad2d93",
   "metadata": {},
   "outputs": [
    {
     "data": {
      "text/plain": [
       "Index(['RH', 'Ws', 'Rain', 'FFMC', 'DMC', 'DC', 'ISI', 'BUI', 'FWI'], dtype='object')"
      ]
     },
     "execution_count": 48,
     "metadata": {},
     "output_type": "execute_result"
    }
   ],
   "source": [
    "corr.columns"
   ]
  },
  {
   "cell_type": "markdown",
   "id": "f63f1b78-4d40-4de3-8467-f8cf3ed60dcb",
   "metadata": {},
   "source": [
    "### Removing columns that have correlation of more than 80% either positive or negative "
   ]
  },
  {
   "cell_type": "code",
   "execution_count": 49,
   "id": "960623c5-d69a-428a-a19b-ffb1561a1469",
   "metadata": {},
   "outputs": [],
   "source": [
    "indexes=[]\n",
    "for j in range(0,9):\n",
    "    for i in range(0,9):\n",
    "        if corr.iloc[j,i]!=1.0 and np.abs(corr.iloc[j,i])>=0.80:\n",
    "            indexes.append(f'{[corr.index[j],corr.columns[i]]},correlation={corr.iloc[j,i]}')"
   ]
  },
  {
   "cell_type": "code",
   "execution_count": 50,
   "id": "5dcb783a-b777-49ac-9a1d-bf7b8ccac83c",
   "metadata": {},
   "outputs": [
    {
     "data": {
      "text/plain": [
       "[\"['DMC', 'DC'],correlation=0.8753582639412613\",\n",
       " \"['DMC', 'BUI'],correlation=0.9820732709504009\",\n",
       " \"['DMC', 'FWI'],correlation=0.8751612837837772\",\n",
       " \"['DC', 'DMC'],correlation=0.8753582639412613\",\n",
       " \"['DC', 'BUI'],correlation=0.9419044789035811\",\n",
       " \"['ISI', 'FWI'],correlation=0.9194860889605078\",\n",
       " \"['BUI', 'DMC'],correlation=0.9820732709504009\",\n",
       " \"['BUI', 'DC'],correlation=0.9419044789035811\",\n",
       " \"['BUI', 'FWI'],correlation=0.8563994008640763\",\n",
       " \"['FWI', 'DMC'],correlation=0.8751612837837772\",\n",
       " \"['FWI', 'ISI'],correlation=0.9194860889605078\",\n",
       " \"['FWI', 'BUI'],correlation=0.8563994008640763\"]"
      ]
     },
     "execution_count": 50,
     "metadata": {},
     "output_type": "execute_result"
    }
   ],
   "source": [
    "indexes"
   ]
  },
  {
   "cell_type": "markdown",
   "id": "b967a0c2-1214-44fd-bd4a-6bd7e7b78210",
   "metadata": {},
   "source": [
    "### we can keep DMC,ISI,FFMC,RAIN,Ws,HS\n",
    "* DC,BUI,FWI WILL BE REMOVED "
   ]
  },
  {
   "cell_type": "markdown",
   "id": "8fa696ec-3f3c-4e65-8405-cae09712e0c4",
   "metadata": {},
   "source": [
    "### Month vs Classes "
   ]
  },
  {
   "cell_type": "code",
   "execution_count": 51,
   "id": "eddf8dc4-cbd0-42f1-ab4e-67deabc8fe35",
   "metadata": {},
   "outputs": [
    {
     "data": {
      "text/plain": [
       "<AxesSubplot: xlabel='Classes', ylabel='count'>"
      ]
     },
     "execution_count": 51,
     "metadata": {},
     "output_type": "execute_result"
    },
    {
     "data": {
      "image/png": "[encoded data removed]",
      "text/plain": [
       "<Figure size 640x480 with 1 Axes>"
      ]
     },
     "metadata": {},
     "output_type": "display_data"
    }
   ],
   "source": [
    "sns.countplot(x=df['Classes'],data=df,hue=df['month'])"
   ]
  },
  {
   "cell_type": "markdown",
   "id": "4001d00d-33e2-4cc4-9725-240a530fdcf5",
   "metadata": {},
   "source": [
    "### We are seeing most fires happpening in the month of August "
   ]
  },
  {
   "cell_type": "markdown",
   "id": "bc456303-d062-4031-b278-17202b9020cd",
   "metadata": {},
   "source": [
    "### Temperature ranges in months "
   ]
  },
  {
   "cell_type": "code",
   "execution_count": 52,
   "id": "c757c8f9-3500-4a61-8c32-0cf15e5a3ce3",
   "metadata": {},
   "outputs": [
    {
     "data": {
      "text/plain": [
       "<AxesSubplot: xlabel='month', ylabel='Temperature'>"
      ]
     },
     "execution_count": 52,
     "metadata": {},
     "output_type": "execute_result"
    },
    {
     "data": {
      "image/png": "[encoded data removed]",
      "text/plain": [
       "<Figure size 640x480 with 1 Axes>"
      ]
     },
     "metadata": {},
     "output_type": "display_data"
    }
   ],
   "source": [
    "sns.scatterplot(data=df,x=df['month'],y=df['Temperature'])"
   ]
  },
  {
   "cell_type": "markdown",
   "id": "f278d9fe-0d1a-41e0-b3de-583b8dffb054",
   "metadata": {},
   "source": [
    "### Rain vs Month "
   ]
  },
  {
   "cell_type": "code",
   "execution_count": 53,
   "id": "6d2728ad-c6ec-4c59-af84-56368d2449b8",
   "metadata": {},
   "outputs": [
    {
     "data": {
      "text/plain": [
       "<AxesSubplot: xlabel='month', ylabel='Rain'>"
      ]
     },
     "execution_count": 53,
     "metadata": {},
     "output_type": "execute_result"
    },
    {
     "data": {
      "image/png": "[encoded data removed]",
      "text/plain": [
       "<Figure size 640x480 with 1 Axes>"
      ]
     },
     "metadata": {},
     "output_type": "display_data"
    }
   ],
   "source": [
    "sns.scatterplot(data=df,x=df['month'],y=df['Rain'])"
   ]
  },
  {
   "cell_type": "code",
   "execution_count": null,
   "id": "5f98e4c3-27f1-4ae4-89ba-9303f910d244",
   "metadata": {},
   "outputs": [],
   "source": [
    "sns.pairplot(df)"
   ]
  },
  {
   "cell_type": "code",
   "execution_count": 55,
   "id": "59024b5b-a851-4603-b4f3-7362b73bb2f4",
   "metadata": {},
   "outputs": [],
   "source": [
    "from sklearn.model_selection import train_test_split\n",
    "from sklearn.preprocessing import StandardScaler\n",
    "from sklearn.linear_model import LinearRegression\n",
    "from sklearn.linear_model import Ridge\n",
    "from sklearn.linear_model import Lasso\n",
    "from sklearn.linear_model import ElasticNet"
   ]
  },
  {
   "cell_type": "code",
   "execution_count": 56,
   "id": "577fafb9-33ab-43f3-ba7e-1c72fd8c9537",
   "metadata": {},
   "outputs": [],
   "source": [
    "df_fixed.drop('Classes',axis='columns',inplace=True)"
   ]
  },
  {
   "cell_type": "code",
   "execution_count": 57,
   "id": "8b0f2600-d27c-4200-ad57-420fb33b02d7",
   "metadata": {},
   "outputs": [],
   "source": [
    "x=df_fixed.drop('FWI',axis='columns')\n",
    "y=df_fixed['FWI']"
   ]
  },
  {
   "cell_type": "code",
   "execution_count": 58,
   "id": "5865dde8-f1fd-49e8-a472-2a4e866d4bfa",
   "metadata": {},
   "outputs": [
    {
     "data": {
      "text/plain": [
       "((244, 14), (244,))"
      ]
     },
     "execution_count": 58,
     "metadata": {},
     "output_type": "execute_result"
    }
   ],
   "source": [
    "x.shape,y.shape"
   ]
  },
  {
   "cell_type": "code",
   "execution_count": 59,
   "id": "68bf9cd7-d98b-4266-8d09-92ad8b7a5d7c",
   "metadata": {},
   "outputs": [],
   "source": [
    "x_train,x_test,y_train,y_test=train_test_split(x,y,test_size=0.2,random_state=42)"
   ]
  },
  {
   "cell_type": "code",
   "execution_count": 60,
   "id": "50ccffc4-5b01-4493-a4ad-2893cfb6426b",
   "metadata": {},
   "outputs": [
    {
     "data": {
      "text/plain": [
       "((195, 14), (195,), (49, 14), (195,))"
      ]
     },
     "execution_count": 60,
     "metadata": {},
     "output_type": "execute_result"
    }
   ],
   "source": [
    "x_train.shape,y_train.shape,x_test.shape,y_train.shape"
   ]
  },
  {
   "cell_type": "code",
   "execution_count": 61,
   "id": "5efc8b41-33e9-4e67-a8db-7e7483576da8",
   "metadata": {},
   "outputs": [],
   "source": [
    "scaler=StandardScaler()\n",
    "x_train_scaled=scaler.fit_transform(x_train)\n",
    "x_test_scaled=scaler.transform(x_test)"
   ]
  },
  {
   "cell_type": "code",
   "execution_count": 62,
   "id": "7bc084e7-6ee3-4371-b2df-da86e1e361c9",
   "metadata": {},
   "outputs": [
    {
     "data": {
      "text/plain": [
       "Text(0.5, 1.0, 'Boxplot for x_test standardized')"
      ]
     },
     "execution_count": 62,
     "metadata": {},
     "output_type": "execute_result"
    },
    {
     "data": {
      "image/png": "[encoded data removed]",
      "text/plain": [
       "<Figure size 1000x1000 with 3 Axes>"
      ]
     },
     "metadata": {},
     "output_type": "display_data"
    }
   ],
   "source": [
    "fig,(ax1,ax2,ax3)=plt.subplots(ncols=1,nrows=3,figsize=(10,10))\n",
    "sns.boxplot(x_train_scaled,ax=ax1)\n",
    "ax1.set_title('Boxplot for x_train standardized')\n",
    "sns.boxplot(x_train,ax=ax2)\n",
    "ax2.set_title('Boxplot for x_train simple')\n",
    "sns.boxplot(x_test_scaled,ax=ax3)\n",
    "ax3.set_title('Boxplot for x_test standardized')"
   ]
  },
  {
   "cell_type": "markdown",
   "id": "e35832be-698e-453d-86d3-242d8c7c6b18",
   "metadata": {},
   "source": [
    "### Trying Linear Regression "
   ]
  },
  {
   "cell_type": "code",
   "execution_count": 63,
   "id": "e050c11a-ca7a-42b2-95a9-601664f1eca4",
   "metadata": {},
   "outputs": [
    {
     "data": {
      "text/plain": [
       "0.98879166705833"
      ]
     },
     "execution_count": 63,
     "metadata": {},
     "output_type": "execute_result"
    }
   ],
   "source": [
    "lr=LinearRegression()\n",
    "lr.fit(x_train_scaled,y_train)\n",
    "lr.score(x_test_scaled,y_test)"
   ]
  },
  {
   "cell_type": "code",
   "execution_count": 64,
   "id": "f513f5c7-1fbb-43d8-a2ca-276d09a12ff8",
   "metadata": {},
   "outputs": [],
   "source": [
    "y_pred=lr.predict(x_test)"
   ]
  },
  {
   "cell_type": "code",
   "execution_count": 65,
   "id": "7ff0ac47-881f-4f1b-8084-6505fb87f0fc",
   "metadata": {},
   "outputs": [
    {
     "data": {
      "text/plain": [
       "<matplotlib.collections.PathCollection at 0x7fc9d206b040>"
      ]
     },
     "execution_count": 65,
     "metadata": {},
     "output_type": "execute_result"
    },
    {
     "data": {
      "image/png": "[encoded data removed]",
      "text/plain": [
       "<Figure size 640x480 with 1 Axes>"
      ]
     },
     "metadata": {},
     "output_type": "display_data"
    }
   ],
   "source": [
    "plt.scatter(y_pred,y_test)"
   ]
  },
  {
   "cell_type": "markdown",
   "id": "0883980a-5ae7-438f-9e29-0d347cc94d91",
   "metadata": {},
   "source": [
    "### Trying lasso and Ridge and elastic net on our dataset"
   ]
  },
  {
   "cell_type": "code",
   "execution_count": 66,
   "id": "32bd09c0-bded-41ef-a261-7d4cbe65affe",
   "metadata": {},
   "outputs": [
    {
     "data": {
      "text/plain": [
       "0.9565960533931686"
      ]
     },
     "execution_count": 66,
     "metadata": {},
     "output_type": "execute_result"
    }
   ],
   "source": [
    "lasso=Lasso()\n",
    "lasso.fit(x_train_scaled,y_train)\n",
    "lasso.score(x_test_scaled,y_test)"
   ]
  },
  {
   "cell_type": "code",
   "execution_count": 67,
   "id": "ce9a34b8-673f-4342-9d36-c354e4952ed5",
   "metadata": {},
   "outputs": [
    {
     "data": {
      "text/plain": [
       "0.987940915825893"
      ]
     },
     "execution_count": 67,
     "metadata": {},
     "output_type": "execute_result"
    }
   ],
   "source": [
    "ridge=Ridge()\n",
    "ridge.fit(x_train_scaled,y_train)\n",
    "ridge.score(x_test_scaled,y_test)"
   ]
  },
  {
   "cell_type": "code",
   "execution_count": 68,
   "id": "61112bae-4049-4584-907a-701eaa22821e",
   "metadata": {},
   "outputs": [
    {
     "data": {
      "text/plain": [
       "0.8892455162177821"
      ]
     },
     "execution_count": 68,
     "metadata": {},
     "output_type": "execute_result"
    }
   ],
   "source": [
    "elasticnet=ElasticNet()\n",
    "elasticnet.fit(x_train_scaled,y_train)\n",
    "elasticnet.score(x_test_scaled,y_test)"
   ]
  },
  {
   "cell_type": "markdown",
   "id": "3e9cda83-d560-4fcd-901b-133ab989bbdc",
   "metadata": {},
   "source": [
    "### Tryiyng ridge cross validation and lasso cross validation "
   ]
  },
  {
   "cell_type": "code",
   "execution_count": 69,
   "id": "413ac7ca-507a-4a54-a0e4-d9e99d74233c",
   "metadata": {},
   "outputs": [],
   "source": [
    "from sklearn.linear_model import LassoCV\n",
    "from sklearn.linear_model import RidgeCV"
   ]
  },
  {
   "cell_type": "code",
   "execution_count": 70,
   "id": "b00171ad-f5e4-4f51-9403-db8bb602db42",
   "metadata": {},
   "outputs": [
    {
     "data": {
      "text/plain": [
       "0.9884825332645042"
      ]
     },
     "execution_count": 70,
     "metadata": {},
     "output_type": "execute_result"
    }
   ],
   "source": [
    "lassocv=LassoCV(cv=5)\n",
    "lassocv.fit(x_train_scaled,y_train)\n",
    "lassocv.score(x_test_scaled,y_test)"
   ]
  },
  {
   "cell_type": "code",
   "execution_count": 71,
   "id": "d442aeb1-0be6-4d85-88a7-b991a8312c2a",
   "metadata": {},
   "outputs": [
    {
     "data": {
      "text/plain": [
       "0.988759962274523"
      ]
     },
     "execution_count": 71,
     "metadata": {},
     "output_type": "execute_result"
    }
   ],
   "source": [
    "ridgecv=RidgeCV(cv=5)\n",
    "ridgecv.fit(x_train_scaled,y_train)\n",
    "ridgecv.score(x_test_scaled,y_test)"
   ]
  },
  {
   "cell_type": "markdown",
   "id": "67f9a362-32ec-4e47-b5a1-2a7455eaf6d6",
   "metadata": {},
   "source": [
    "### pickling the model or saving the model "
   ]
  },
  {
   "cell_type": "code",
   "execution_count": 72,
   "id": "63cf2686-3743-4bf3-8b6b-3e33f5624a0b",
   "metadata": {},
   "outputs": [],
   "source": [
    "# ridge cv model saved \n",
    "import pickle\n",
    "with open('ridgecv.pkl','wb') as f:\n",
    "    pickle.dump(ridgecv,f)"
   ]
  },
  {
   "cell_type": "code",
   "execution_count": 73,
   "id": "c208bae1-92d6-4c03-bdef-1faf9e37973d",
   "metadata": {},
   "outputs": [],
   "source": [
    "# Lasso cv model saved\n",
    "pickle.dump(lassocv,open('lassocv.pkl','wb'))"
   ]
  },
  {
   "cell_type": "code",
   "execution_count": 75,
   "id": "9c9c8e5b-8a78-4069-828c-fe70c5c75de0",
   "metadata": {},
   "outputs": [],
   "source": [
    "pickle.dump(scaler,open('scaler.pkl','wb'))"
   ]
  },
  {
   "cell_type": "code",
   "execution_count": 2,
   "id": "b84d24b9-7c6a-4c85-b420-ecda02b8d2f4",
   "metadata": {},
   "outputs": [
    {
     "name": "stdout",
     "output_type": "stream",
     "text": [
      "Archive:  forestfire-main.zip\n",
      "b1af21c03d9077b62f3bf8fc38cfa2b8251dab00\n",
      "   creating: forestfire-main/\n",
      "   creating: forestfire-main/.ebextensions/\n",
      "  inflating: forestfire-main/.ebextensions/python.config  \n",
      "   creating: forestfire-main/.vscode/\n",
      "  inflating: forestfire-main/.vscode/extensions.json  \n",
      "  inflating: forestfire-main/.vscode/settings.json  \n",
      "  inflating: forestfire-main/.vscode/tasks.json  \n",
      "  inflating: forestfire-main/README.md  \n",
      "  inflating: forestfire-main/application.py  \n",
      "   creating: forestfire-main/dataset/\n",
      "  inflating: forestfire-main/dataset/Algerian_forest_fires_cleaned_dataset.csv  \n",
      "   creating: forestfire-main/models/\n",
      "  inflating: forestfire-main/models/ridge.pkl  \n",
      "  inflating: forestfire-main/models/scaler.pkl  \n",
      "   creating: forestfire-main/notebooks/\n",
      "  inflating: forestfire-main/notebooks/2.0-EDA And FE Algerian Forest Fires.ipynb  \n",
      "  inflating: forestfire-main/notebooks/3.0-Model Training.ipynb  \n",
      " extracting: forestfire-main/requirements.txt  \n",
      "   creating: forestfire-main/templates/\n",
      "  inflating: forestfire-main/templates/home.html  \n",
      "  inflating: forestfire-main/templates/index.html  \n"
     ]
    }
   ],
   "source": [
    "! unzip 'forestfire-main.zip'"
   ]
  },
  {
   "cell_type": "code",
   "execution_count": 2,
   "id": "bedc9f45-7b3e-45c6-a712-83d2ea089346",
   "metadata": {},
   "outputs": [
    {
     "name": "stdout",
     "output_type": "stream",
     "text": [
      "Requirement already satisfied: flask in /opt/conda/lib/python3.10/site-packages (3.0.0)\n",
      "Requirement already satisfied: blinker>=1.6.2 in /opt/conda/lib/python3.10/site-packages (from flask) (1.6.2)\n",
      "Requirement already satisfied: click>=8.1.3 in /opt/conda/lib/python3.10/site-packages (from flask) (8.1.3)\n",
      "Requirement already satisfied: Jinja2>=3.1.2 in /opt/conda/lib/python3.10/site-packages (from flask) (3.1.2)\n",
      "Requirement already satisfied: Werkzeug>=3.0.0 in /opt/conda/lib/python3.10/site-packages (from flask) (3.0.0)\n",
      "Requirement already satisfied: itsdangerous>=2.1.2 in /opt/conda/lib/python3.10/site-packages (from flask) (2.1.2)\n",
      "Requirement already satisfied: MarkupSafe>=2.0 in /opt/conda/lib/python3.10/site-packages (from Jinja2>=3.1.2->flask) (2.1.1)\n"
     ]
    }
   ],
   "source": [
    "! pip install flask"
   ]
  },
  {
   "cell_type": "code",
   "execution_count": 1,
   "id": "ec711086-8bbd-4224-8563-ae4a35e88915",
   "metadata": {},
   "outputs": [],
   "source": [
    "from flask import Flask,request,render_template\n",
    "import pandas as pd"
   ]
  },
  {
   "cell_type": "code",
   "execution_count": 4,
   "id": "fa9e9d7d-e572-4d07-be9a-f13579367195",
   "metadata": {},
   "outputs": [
    {
     "name": "stdout",
     "output_type": "stream",
     "text": [
      " * Serving Flask app '__main__'\n",
      " * Debug mode: off\n"
     ]
    },
    {
     "name": "stderr",
     "output_type": "stream",
     "text": [
      "WARNING: This is a development server. Do not use it in a production deployment. Use a production WSGI server instead.\n",
      " * Running on all addresses (0.0.0.0)\n",
      " * Running on http://127.0.0.1:5000\n",
      " * Running on http://172.18.0.17:5000\n",
      "Press CTRL+C to quit\n",
      "172.18.0.2 - - [01/Oct/2023 15:23:58] \"GET /predict_datapoint HTTP/1.1\" 200 -\n"
     ]
    }
   ],
   "source": [
    "import pickle \n",
    "model=pickle.load(open('lassocv.pkl','rb'))\n",
    "scaler=pickle.load(open('scaler.pkl','rb'))\n",
    "\n",
    "app=Flask(__name__)\n",
    "\n",
    "@app.route('/')\n",
    "def homepage():\n",
    "    return render_template('index.html')\n",
    "\n",
    "@app.route('/predict_datapoint',methods=['GET','POST']) # simply give both post and get here for error free execution \n",
    "def predictor(): # remember the name of the function should be same as the one mentioned in the template file for this function\n",
    "    if request.method=='POST':\n",
    "        day=int(request.form.get('day')) # get or simply .form can also be used \n",
    "        month=int(request.form.get('month'))\n",
    "        year=int(request.form.get('year'))\n",
    "        rh=int(request.form.get('RH'))\n",
    "        ws=int(request.form.get('Ws'))\n",
    "        rain=float(request.form.get('Rain'))\n",
    "        ffmc=float(request.form.get('FFMC'))\n",
    "        dmc=float(request.form.get('DMC'))\n",
    "        dc=float(request.form.get('DC'))\n",
    "        isi=float(request.form.get('ISI'))\n",
    "        bui=float(request.form.get('BUI'))\n",
    "        fwi=float(request.form.get('FWI'))\n",
    "        fire=int(request.form.get('fire'))\n",
    "        not_fire=int(request.form.get('not fire'))\n",
    "        input_params=pd.DataFrame([day,month,year,rh,ws,rain,ffmc,dmc,dc,isi,bui,fwi,fire,not_fire]).T\n",
    "        scaled_data=scaler.transform(input_params)\n",
    "        pred=model.predict(scaled_data)\n",
    "        return render_template('home.html',result=pred[0])\n",
    "    else:\n",
    "        return render_template('home.html')\n",
    "\n",
    "if __name__=='__main__':\n",
    "    app.run(host='0.0.0.0',port=5000)\n",
    "    \n"
   ]
  },
  {
   "cell_type": "code",
   "execution_count": null,
   "id": "7ccc06da-3b88-4560-af6d-5ee28989691f",
   "metadata": {},
   "outputs": [],
   "source": []
  }
 ],
 "metadata": {
  "kernelspec": {
   "display_name": "Python 3 (ipykernel)",
   "language": "python",
   "name": "python3"
  },
  "language_info": {
   "codemirror_mode": {
    "name": "ipython",
    "version": 3
   },
   "file_extension": ".py",
   "mimetype": "text/x-python",
   "name": "python",
   "nbconvert_exporter": "python",
   "pygments_lexer": "ipython3",
   "version": "3.10.8"
  },
  "toc-autonumbering": true,
  "toc-showmarkdowntxt": true
 },
 "nbformat": 4,
 "nbformat_minor": 5
}
